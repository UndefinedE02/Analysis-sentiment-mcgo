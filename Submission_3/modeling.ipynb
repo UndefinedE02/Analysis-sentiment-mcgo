{
 "cells": [
  {
   "cell_type": "markdown",
   "metadata": {},
   "source": [
    "### Import Library"
   ]
  },
  {
   "cell_type": "code",
   "execution_count": null,
   "metadata": {},
   "outputs": [],
   "source": [
    "import pandas as pd \n",
    "import numpy as np  \n",
    "import matplotlib.pyplot as plt  \n",
    "import seaborn as sns  \n",
    "import string\n",
    "import re\n",
    "import nltk\n",
    "import pandas as pd\n",
    "import nltk\n",
    "from nltk.tokenize import word_tokenize\n",
    "from nltk.corpus import stopwords\n",
    "from Sastrawi.Stemmer.StemmerFactory import StemmerFactory\n",
    "from collections import Counter\n",
    "from sklearn.model_selection import train_test_split\n",
    "from sklearn.feature_extraction.text import TfidfVectorizer\n",
    "from sklearn.ensemble import RandomForestClassifier\n",
    "from sklearn.metrics import accuracy_score, classification_report\n",
    "from gensim.models import Word2Vec\n",
    "import pickle\n",
    "import requests\n",
    "import json\n",
    "import csv\n",
    "from sklearn.svm import SVC\n",
    "from io import StringIO"
   ]
  },
  {
   "cell_type": "code",
   "execution_count": 66,
   "metadata": {},
   "outputs": [
    {
     "name": "stderr",
     "output_type": "stream",
     "text": [
      "[nltk_data] Downloading package punkt to\n",
      "[nltk_data]     C:\\Users\\ejaad\\AppData\\Roaming\\nltk_data...\n",
      "[nltk_data]   Unzipping tokenizers\\punkt.zip.\n",
      "[nltk_data] Downloading package stopwords to\n",
      "[nltk_data]     C:\\Users\\ejaad\\AppData\\Roaming\\nltk_data...\n",
      "[nltk_data]   Package stopwords is already up-to-date!\n"
     ]
    },
    {
     "data": {
      "text/plain": [
       "True"
      ]
     },
     "execution_count": 66,
     "metadata": {},
     "output_type": "execute_result"
    }
   ],
   "source": [
    "nltk.download('punkt', force=True)\n",
    "nltk.download('stopwords')"
   ]
  },
  {
   "cell_type": "markdown",
   "metadata": {},
   "source": [
    "### Preprocessing data"
   ]
  },
  {
   "cell_type": "code",
   "execution_count": 67,
   "metadata": {},
   "outputs": [],
   "source": [
    "# Load data ulasan\n",
    "data = pd.read_csv(\"magic_chess_reviews.csv\")"
   ]
  },
  {
   "cell_type": "code",
   "execution_count": 68,
   "metadata": {},
   "outputs": [
    {
     "data": {
      "text/html": [
       "<div>\n",
       "<style scoped>\n",
       "    .dataframe tbody tr th:only-of-type {\n",
       "        vertical-align: middle;\n",
       "    }\n",
       "\n",
       "    .dataframe tbody tr th {\n",
       "        vertical-align: top;\n",
       "    }\n",
       "\n",
       "    .dataframe thead th {\n",
       "        text-align: right;\n",
       "    }\n",
       "</style>\n",
       "<table border=\"1\" class=\"dataframe\">\n",
       "  <thead>\n",
       "    <tr style=\"text-align: right;\">\n",
       "      <th></th>\n",
       "      <th>userName</th>\n",
       "      <th>score</th>\n",
       "      <th>content</th>\n",
       "    </tr>\n",
       "  </thead>\n",
       "  <tbody>\n",
       "    <tr>\n",
       "      <th>0</th>\n",
       "      <td>Pengguna Google</td>\n",
       "      <td>5</td>\n",
       "      <td>Gem nya lumayan keren si , semoga tahun depan ...</td>\n",
       "    </tr>\n",
       "    <tr>\n",
       "      <th>1</th>\n",
       "      <td>Pengguna Google</td>\n",
       "      <td>3</td>\n",
       "      <td>Kurang mc itu sekarang hampir semua hero tdk a...</td>\n",
       "    </tr>\n",
       "    <tr>\n",
       "      <th>2</th>\n",
       "      <td>Pengguna Google</td>\n",
       "      <td>1</td>\n",
       "      <td>Kurang bagus ton jelek</td>\n",
       "    </tr>\n",
       "    <tr>\n",
       "      <th>3</th>\n",
       "      <td>Pengguna Google</td>\n",
       "      <td>3</td>\n",
       "      <td>Paling males kalo ketemu lawan yang pake combo...</td>\n",
       "    </tr>\n",
       "    <tr>\n",
       "      <th>4</th>\n",
       "      <td>Pengguna Google</td>\n",
       "      <td>5</td>\n",
       "      <td>Game. Nya bagus</td>\n",
       "    </tr>\n",
       "  </tbody>\n",
       "</table>\n",
       "</div>"
      ],
      "text/plain": [
       "          userName  score                                            content\n",
       "0  Pengguna Google      5  Gem nya lumayan keren si , semoga tahun depan ...\n",
       "1  Pengguna Google      3  Kurang mc itu sekarang hampir semua hero tdk a...\n",
       "2  Pengguna Google      1                             Kurang bagus ton jelek\n",
       "3  Pengguna Google      3  Paling males kalo ketemu lawan yang pake combo...\n",
       "4  Pengguna Google      5                                    Game. Nya bagus"
      ]
     },
     "execution_count": 68,
     "metadata": {},
     "output_type": "execute_result"
    }
   ],
   "source": [
    "# Cek data frame\n",
    "df = pd.DataFrame(data)\n",
    "df.shape\n",
    "df.head()"
   ]
  },
  {
   "cell_type": "code",
   "execution_count": 69,
   "metadata": {},
   "outputs": [],
   "source": [
    "# Menghitung jumlah baris dan kolom dalam DataFrame\n",
    "jumlah_ulasan, jumlah_kolom = df.shape"
   ]
  },
  {
   "cell_type": "code",
   "execution_count": 70,
   "metadata": {},
   "outputs": [],
   "source": [
    "# Hapus missing value\n",
    "clean_df = df.dropna()\n",
    "\n",
    "# Menghapus baris duplikat dari DataFrame clean_df\n",
    "clean_df = clean_df.drop_duplicates()\n",
    "\n",
    "# Menghitung jumlah baris dan kolom dalam DataFrame clean_df setelah menghapus duplikat\n",
    "jumlah_ulasan_setelah_hapus_duplikat, jumlah_kolom_setelah_hapus_duplikat = clean_df.shape"
   ]
  },
  {
   "cell_type": "markdown",
   "metadata": {},
   "source": [
    "### Preprocessing teks"
   ]
  },
  {
   "cell_type": "code",
   "execution_count": 71,
   "metadata": {},
   "outputs": [],
   "source": [
    "# Inisialisasi stemmer bahasa Indonesia\n",
    "factory = StemmerFactory()\n",
    "stemmer = factory.create_stemmer()"
   ]
  },
  {
   "cell_type": "code",
   "execution_count": 72,
   "metadata": {},
   "outputs": [],
   "source": [
    "# ============ Membaca Stopwords dari GitHub ============\n",
    "stopwords_url = \"https://raw.githubusercontent.com/stopwords-iso/stopwords-id/master/stopwords-id.txt\"\n",
    "response = requests.get(stopwords_url)\n",
    "if response.status_code == 200:\n",
    "    stop_words = set(response.text.split(\"\\n\"))\n",
    "else:\n",
    "    print(\"Failed to fetch stopwords\")\n",
    "    stop_words = set()"
   ]
  },
  {
   "cell_type": "code",
   "execution_count": 73,
   "metadata": {},
   "outputs": [],
   "source": [
    "# ============ Membaca Daftar Kata Sentimen dari GitHub ============\n",
    "# Membaca kata-kata positif\n",
    "lexicon_positive = set()\n",
    "response = requests.get('https://raw.githubusercontent.com/angelmetanosaa/dataset/main/lexicon_positive.csv')\n",
    "if response.status_code == 200:\n",
    "    reader = csv.reader(StringIO(response.text), delimiter=',')\n",
    "    for row in reader:\n",
    "        lexicon_positive.add(row[0])  # Simpan hanya kata, tanpa skor\n",
    "else:\n",
    "    print(\"Failed to fetch positive lexicon data\")"
   ]
  },
  {
   "cell_type": "code",
   "execution_count": 74,
   "metadata": {},
   "outputs": [],
   "source": [
    "# ============ Membaca Daftar Kata Sentimen dari GitHub ============\n",
    "# Membaca kata-kata negatif\n",
    "lexicon_negative = set()\n",
    "response = requests.get('https://raw.githubusercontent.com/angelmetanosaa/dataset/main/lexicon_negative.csv')\n",
    "if response.status_code == 200:\n",
    "    reader = csv.reader(StringIO(response.text), delimiter=',')\n",
    "    for row in reader:\n",
    "        lexicon_negative.add(row[0])  # Simpan hanya kata, tanpa skor\n",
    "else:\n",
    "    print(\"Failed to fetch negative lexicon data\")"
   ]
  },
  {
   "cell_type": "code",
   "execution_count": 75,
   "metadata": {},
   "outputs": [],
   "source": [
    "# ============ Fungsi Preprocessing ============\n",
    "def preprocess_text(text):\n",
    "    \"\"\"Membersihkan teks dari karakter khusus, stopwords, dan melakukan tokenisasi\"\"\"\n",
    "    if not isinstance(text, str):\n",
    "        return \"\"\n",
    "\n",
    "    text = text.lower()  # Lowercasing\n",
    "    text = re.sub(r'@[A-Za-z0-9]+', '', text)  # Menghapus mention\n",
    "    text = re.sub(r'#[A-Za-z0-9]+', '', text)  # Menghapus hashtag\n",
    "    text = re.sub(r'RT[\\s]', '', text)  # Menghapus RT\n",
    "    text = re.sub(r'http\\S+', '', text)  # Menghapus URL/link\n",
    "    text = re.sub(r'[0-9]+', '', text)  # Menghapus angka\n",
    "    text = re.sub(r'[^a-zA-Z\\s]', '', text)  # Menghapus karakter selain huruf dan spasi\n",
    "    text = text.translate(str.maketrans('', '', string.punctuation))  # Menghapus tanda baca\n",
    "    text = text.strip()  # Menghapus spasi di awal dan akhir\n",
    "\n",
    "    tokens = re.findall(r'\\b\\w+\\b', text)  # Tokenisasi dengan regex\n",
    "    tokens = [word for word in tokens if word not in stop_words]  # Stopword removal\n",
    "    return \" \".join(tokens)"
   ]
  },
  {
   "cell_type": "code",
   "execution_count": 76,
   "metadata": {},
   "outputs": [],
   "source": [
    "# ============ Fungsi Labeling Sentimen ============\n",
    "def label_sentiment(text):\n",
    "    \"\"\"Menentukan sentimen berdasarkan jumlah kata positif dan negatif\"\"\"\n",
    "    words = set(text.split())  # Konversi teks ke set kata unik\n",
    "    pos_count = len(words & lexicon_positive)  # Hitung jumlah kata positif\n",
    "    neg_count = len(words & lexicon_negative)  # Hitung jumlah kata negatif\n",
    "\n",
    "    if pos_count > neg_count:\n",
    "        return 1  # Positif\n",
    "    elif neg_count > pos_count:\n",
    "        return -1  # Negatif\n",
    "    else:\n",
    "        return 0  # Netral"
   ]
  },
  {
   "cell_type": "code",
   "execution_count": 77,
   "metadata": {},
   "outputs": [
    {
     "name": "stdout",
     "output_type": "stream",
     "text": [
      "Preprocessing dan labeling selesai. Data disimpan dalam magic_chess_reviews_clean.csv\n",
      "              userName  score  \\\n",
      "0      Pengguna Google      5   \n",
      "1      Pengguna Google      3   \n",
      "2      Pengguna Google      1   \n",
      "3      Pengguna Google      3   \n",
      "4      Pengguna Google      5   \n",
      "...                ...    ...   \n",
      "29995  Pengguna Google      5   \n",
      "29996  Pengguna Google      1   \n",
      "29997  Pengguna Google      1   \n",
      "29998  Pengguna Google      1   \n",
      "29999  Pengguna Google      1   \n",
      "\n",
      "                                                 content  \\\n",
      "0      Gem nya lumayan keren si , semoga tahun depan ...   \n",
      "1      Kurang mc itu sekarang hampir semua hero tdk a...   \n",
      "2                                 Kurang bagus ton jelek   \n",
      "3      Paling males kalo ketemu lawan yang pake combo...   \n",
      "4                                        Game. Nya bagus   \n",
      "...                                                  ...   \n",
      "29995                               game nya seru banget   \n",
      "29996  Salah atuh bos pisah dari mobile legend mah, g...   \n",
      "29997  Wooyyy moontonn balikin magic chess yg kaya km...   \n",
      "29998  Gk jelas, sinergi nya GK jelas bingung main ny...   \n",
      "29999                           Layar nyaa item semua 😩😤   \n",
      "\n",
      "                                           clean_content  sentiment  \n",
      "0          gem nya lumayan keren si semoga gem nya keren          0  \n",
      "1      mc hero tdk skin mc ml hero mc skin skin colek...          0  \n",
      "2                                        bagus ton jelek         -1  \n",
      "3      males kalo ketemu lawan pake combo sinergi pak...          0  \n",
      "4                                         game nya bagus          1  \n",
      "...                                                  ...        ...  \n",
      "29995                               game nya seru banget          1  \n",
      "29996  salah atuh bos pisah mobile legend mah gamenya...         -1  \n",
      "29997  wooyyy moontonn balikin magic chess yg kaya km...          0  \n",
      "29998  gk sinergi nya gk bingung main nya enak yg tol...         -1  \n",
      "29999                                    layar nyaa item         -1  \n",
      "\n",
      "[30000 rows x 5 columns]\n"
     ]
    }
   ],
   "source": [
    "if 'content' in df.columns:\n",
    "    df['clean_content'] = df['content'].apply(preprocess_text)\n",
    "    df['sentiment'] = df['clean_content'].apply(label_sentiment)\n",
    "\n",
    "    # Simpan hasil preprocessing dan labeling\n",
    "    processed_filename = \"magic_chess_reviews_clean.csv\"\n",
    "    df[['clean_content', 'sentiment']].to_csv(processed_filename, index=False)\n",
    "    print(f\"Preprocessing dan labeling selesai. Data disimpan dalam {processed_filename}\")\n",
    "else:\n",
    "    print(\"Kolom 'content' tidak ditemukan dalam data.\")\n",
    "\n",
    "# Cek hasil\n",
    "print(df)"
   ]
  },
  {
   "cell_type": "markdown",
   "metadata": {},
   "source": [
    "## Analisis sentimen"
   ]
  },
  {
   "cell_type": "code",
   "execution_count": 78,
   "metadata": {},
   "outputs": [
    {
     "name": "stderr",
     "output_type": "stream",
     "text": [
      "C:\\Users\\ejaad\\AppData\\Local\\Temp\\ipykernel_3372\\3581007145.py:3: FutureWarning: \n",
      "\n",
      "Passing `palette` without assigning `hue` is deprecated and will be removed in v0.14.0. Assign the `x` variable to `hue` and set `legend=False` for the same effect.\n",
      "\n",
      "  sns.countplot(x=df['sentiment'].map({-1: \"Negatif\", 0: \"Netral\", 1: \"Positif\"}), palette='coolwarm')\n"
     ]
    },
    {
     "data": {
      "image/png": "[encoded data removed]",
      "text/plain": [
       "<Figure size 600x400 with 1 Axes>"
      ]
     },
     "metadata": {},
     "output_type": "display_data"
    }
   ],
   "source": [
    "# Analisis Sentimen\n",
    "plt.figure(figsize=(6, 4))\n",
    "sns.countplot(x=df['sentiment'].map({-1: \"Negatif\", 0: \"Netral\", 1: \"Positif\"}), palette='coolwarm')\n",
    "plt.title(\"Distribusi Sentimen Ulasan\")\n",
    "plt.xlabel(\"Sentimen\")\n",
    "plt.ylabel(\"Jumlah Ulasan\")\n",
    "plt.show()"
   ]
  },
  {
   "cell_type": "code",
   "execution_count": 79,
   "metadata": {},
   "outputs": [
    {
     "name": "stderr",
     "output_type": "stream",
     "text": [
      "C:\\Users\\ejaad\\AppData\\Local\\Temp\\ipykernel_3372\\262717458.py:6: FutureWarning: \n",
      "\n",
      "Passing `palette` without assigning `hue` is deprecated and will be removed in v0.14.0. Assign the `y` variable to `hue` and set `legend=False` for the same effect.\n",
      "\n",
      "  sns.barplot(x=list(counts), y=list(words), palette='viridis')\n"
     ]
    },
    {
     "data": {
      "image/png": "[encoded data removed]",
      "text/plain": [
       "<Figure size 800x400 with 1 Axes>"
      ]
     },
     "metadata": {},
     "output_type": "display_data"
    }
   ],
   "source": [
    "\n",
    "# Analisis Kata Kunci\n",
    "all_words = \" \".join(df['clean_content']).split()\n",
    "common_words = Counter(all_words).most_common(20)\n",
    "words, counts = zip(*common_words)\n",
    "plt.figure(figsize=(8, 4))\n",
    "sns.barplot(x=list(counts), y=list(words), palette='viridis')\n",
    "plt.title(\"20 Kata yang Paling Sering Muncul\")\n",
    "plt.xlabel(\"Frekuensi\")\n",
    "plt.ylabel(\"Kata\")\n",
    "plt.show()"
   ]
  },
  {
   "cell_type": "code",
   "execution_count": 80,
   "metadata": {},
   "outputs": [
    {
     "data": {
      "image/png": "[encoded data removed]",
      "text/plain": [
       "<Figure size 600x400 with 1 Axes>"
      ]
     },
     "metadata": {},
     "output_type": "display_data"
    }
   ],
   "source": [
    "# Distribusi Panjang Teks\n",
    "df['text_length'] = df['clean_content'].apply(lambda x: len(x.split()))\n",
    "plt.figure(figsize=(6, 4))\n",
    "sns.histplot(df['text_length'], bins=30, kde=True, color='blue')\n",
    "plt.title(\"Distribusi Panjang Ulasan\")\n",
    "plt.xlabel(\"Jumlah Kata\")\n",
    "plt.ylabel(\"Frekuensi\")\n",
    "plt.show()\n"
   ]
  },
  {
   "cell_type": "code",
   "execution_count": 81,
   "metadata": {},
   "outputs": [
    {
     "name": "stderr",
     "output_type": "stream",
     "text": [
      "C:\\Users\\ejaad\\AppData\\Local\\Temp\\ipykernel_3372\\1723424477.py:3: FutureWarning: \n",
      "\n",
      "Passing `palette` without assigning `hue` is deprecated and will be removed in v0.14.0. Assign the `x` variable to `hue` and set `legend=False` for the same effect.\n",
      "\n",
      "  sns.boxplot(x=df['score'], y=df['sentiment'], palette='coolwarm')\n"
     ]
    },
    {
     "data": {
      "image/png": "[encoded data removed]",
      "text/plain": [
       "<Figure size 800x500 with 1 Axes>"
      ]
     },
     "metadata": {},
     "output_type": "display_data"
    }
   ],
   "source": [
    "# Analisis Rating vs Sentimen\n",
    "plt.figure(figsize=(8, 5))\n",
    "sns.boxplot(x=df['score'], y=df['sentiment'], palette='coolwarm')\n",
    "plt.title(\"Hubungan Rating dengan Sentimen\")\n",
    "plt.xlabel(\"Rating Play Store\")\n",
    "plt.ylabel(\"Sentimen\")\n",
    "plt.show()"
   ]
  },
  {
   "cell_type": "markdown",
   "metadata": {},
   "source": [
    "## Modeling menggunakan LSTM"
   ]
  },
  {
   "cell_type": "code",
   "execution_count": 82,
   "metadata": {},
   "outputs": [],
   "source": [
    "# Memuat data hasil preprocessing\n",
    "df = pd.read_csv(\"magic_chess_reviews_clean.csv\")\n",
    "\n",
    "# Pilih teks dan label sentimen\n",
    "X_text = df['clean_content']\n",
    "y = df['sentiment']\n",
    "\n",
    "# Hapus baris yang memiliki NaN pada teks\n",
    "df = df.dropna(subset=['clean_content'])\n",
    "\n",
    "# Atau, ganti NaN dengan string kosong\n",
    "df['clean_content'] = df['clean_content'].fillna(\"\")\n"
   ]
  },
  {
   "cell_type": "code",
   "execution_count": 83,
   "metadata": {},
   "outputs": [
    {
     "name": "stdout",
     "output_type": "stream",
     "text": [
      "Jumlah data kosong sebelum pemrosesan: 0\n",
      "                                       clean_content  sentiment\n",
      "0      gem nya lumayan keren si semoga gem nya keren          0\n",
      "1  mc hero tdk skin mc ml hero mc skin skin colek...          0\n",
      "2                                    bagus ton jelek         -1\n",
      "3  males kalo ketemu lawan pake combo sinergi pak...          0\n",
      "4                                     game nya bagus          1\n"
     ]
    }
   ],
   "source": [
    "X_text = df['clean_content'].astype(str)\n",
    "\n",
    "print(\"Jumlah data kosong sebelum pemrosesan:\", df['clean_content'].isna().sum())\n",
    "print(df.head())  # Untuk melihat apakah ada data aneh"
   ]
  },
  {
   "cell_type": "code",
   "execution_count": 84,
   "metadata": {},
   "outputs": [],
   "source": [
    "X_text = df['clean_content'].astype(str).tolist()\n",
    "y = df['sentiment'].values  \n"
   ]
  },
  {
   "cell_type": "code",
   "execution_count": 85,
   "metadata": {},
   "outputs": [
    {
     "name": "stdout",
     "output_type": "stream",
     "text": [
      "Jumlah data kosong setelah konversi: 0\n",
      "Contoh data: ['gem nya lumayan keren si semoga gem nya keren', 'mc hero tdk skin mc ml hero mc skin skin colektor zodiak enda dihilangin mcgogo kurangnya effect grafik memukau ml', 'bagus ton jelek', 'males kalo ketemu lawan pake combo sinergi pake kalo orang mah gapapa orang hero stok nya rolling gak dapetdapet itupun pake hero sinyal suka tibatiba jelek pas main sekian terima kasih', 'game nya bagus']\n"
     ]
    }
   ],
   "source": [
    "print(\"Jumlah data kosong setelah konversi:\", sum(pd.Series(X_text).isna()))\n",
    "print(\"Contoh data:\", X_text[:5])\n"
   ]
  },
  {
   "cell_type": "code",
   "execution_count": 86,
   "metadata": {},
   "outputs": [
    {
     "name": "stdout",
     "output_type": "stream",
     "text": [
      "\n",
      "Model: SVM + TF-IDF (80/20)\n",
      "Akurasi Pelatihan: 0.9792010844241115\n",
      "Akurasi Pengujian: 0.9235852253473399\n",
      "              precision    recall  f1-score   support\n",
      "\n",
      "          -1       0.91      0.86      0.88      1139\n",
      "           0       0.90      0.94      0.92      2628\n",
      "           1       0.96      0.94      0.95      2135\n",
      "\n",
      "    accuracy                           0.92      5902\n",
      "   macro avg       0.92      0.91      0.92      5902\n",
      "weighted avg       0.92      0.92      0.92      5902\n",
      "\n"
     ]
    }
   ],
   "source": [
    "# ==================== TF-IDF + SVM (80/20) ====================\n",
    "print(\"\\nModel: SVM + TF-IDF (80/20)\")\n",
    "tfidf_vectorizer = TfidfVectorizer(max_features=10000)\n",
    "X_tfidf = tfidf_vectorizer.fit_transform(X_text)\n",
    "\n",
    "# Membagi data latih dan data uji (80/20)\n",
    "X_train, X_test, y_train, y_test = train_test_split(X_tfidf, y, test_size=0.2, random_state=42)\n",
    "\n",
    "# Melatih model SVM\n",
    "svm_model = SVC(kernel='linear', C=2, degree = 3, gamma = 0.1)\n",
    "svm_model.fit(X_train, y_train)\n",
    "\n",
    "y_train_svm = svm_model.predict(X_train)\n",
    "print(\"Akurasi Pelatihan:\", accuracy_score(y_train, y_train_svm))\n",
    "\n",
    "# Evaluasi model\n",
    "y_pred_svm = svm_model.predict(X_test)\n",
    "\n",
    "print(\"Akurasi Pengujian:\", accuracy_score(y_test, y_pred_svm))\n",
    "print(classification_report(y_test, y_pred_svm))\n",
    "\n"
   ]
  },
  {
   "cell_type": "code",
   "execution_count": 87,
   "metadata": {},
   "outputs": [
    {
     "name": "stdout",
     "output_type": "stream",
     "text": [
      "\n",
      "Model: RF + Word2Vec (80/20)\n",
      "Akurasi Pelatihan: 0.9995763968314483\n",
      "Akurasi Pengujian: 0.7016265672653338\n",
      "              precision    recall  f1-score   support\n",
      "\n",
      "          -1       0.51      0.54      0.53      1139\n",
      "           0       0.74      0.75      0.74      2628\n",
      "           1       0.77      0.72      0.75      2135\n",
      "\n",
      "    accuracy                           0.70      5902\n",
      "   macro avg       0.67      0.67      0.67      5902\n",
      "weighted avg       0.71      0.70      0.70      5902\n",
      "\n"
     ]
    }
   ],
   "source": [
    "# ==================== Word2Vec + RF (80/20) ====================\n",
    "print(\"\\nModel: RF + Word2Vec (80/20)\")\n",
    "tokenized_text = [text.split() for text in X_text]\n",
    "w2v_model = Word2Vec(sentences=tokenized_text, vector_size=100, window=5, min_count=2, workers=4)\n",
    "word_vectors = w2v_model.wv\n",
    "\n",
    "def text_to_w2v(text):\n",
    "    words = text.split()\n",
    "    words = [word for word in words if word in word_vectors]\n",
    "    if len(words) == 0:\n",
    "        return np.zeros(100)\n",
    "    return np.mean([word_vectors[word] for word in words], axis=0)\n",
    "\n",
    "X_w2v = np.array([text_to_w2v(text) for text in X_text])\n",
    "\n",
    "X_train, X_test, y_train, y_test = train_test_split(X_w2v, y, test_size=0.2, random_state=42)\n",
    "\n",
    "rf_model = RandomForestClassifier(n_estimators=100, random_state=42)\n",
    "rf_model.fit(X_train, y_train)\n",
    "\n",
    "y_train_rf_w2v = rf_model.predict(X_train)\n",
    "print(\"Akurasi Pelatihan:\", accuracy_score(y_train, y_train_rf_w2v))\n",
    "\n",
    "y_pred_rf_w2v = rf_model.predict(X_test)\n",
    "print(\"Akurasi Pengujian:\", accuracy_score(y_test, y_pred_rf_w2v))\n",
    "print(classification_report(y_test, y_pred_rf_w2v))"
   ]
  },
  {
   "cell_type": "code",
   "execution_count": 88,
   "metadata": {},
   "outputs": [
    {
     "name": "stdout",
     "output_type": "stream",
     "text": [
      "\n",
      "Model: RF + TF-IDF (70/30)\n",
      "Akurasi Pelatihan: 0.9990317583268784\n",
      "Akurasi Pengujian: 0.8545125946007003\n",
      "              precision    recall  f1-score   support\n",
      "\n",
      "          -1       0.78      0.79      0.78      1708\n",
      "           0       0.86      0.84      0.85      3915\n",
      "           1       0.89      0.90      0.89      3230\n",
      "\n",
      "    accuracy                           0.85      8853\n",
      "   macro avg       0.84      0.85      0.84      8853\n",
      "weighted avg       0.85      0.85      0.85      8853\n",
      "\n"
     ]
    }
   ],
   "source": [
    "# ==================== TF-IDF + RF (70/30) ====================\n",
    "print(\"\\nModel: RF + TF-IDF (70/30)\")\n",
    "X_train, X_test, y_train, y_test = train_test_split(X_tfidf, y, test_size=0.3, random_state=42)\n",
    "\n",
    "rf_model_tfidf = RandomForestClassifier(n_estimators=100, min_samples_split=5,random_state=42)\n",
    "rf_model_tfidf.fit(X_train, y_train)\n",
    "\n",
    "y_train_rf_tfidf = rf_model_tfidf.predict(X_train)\n",
    "print(\"Akurasi Pelatihan:\", accuracy_score(y_train, y_train_rf_tfidf))\n",
    "\n",
    "y_pred_rf_tfidf = rf_model_tfidf.predict(X_test)\n",
    "print(\"Akurasi Pengujian:\", accuracy_score(y_test, y_pred_rf_tfidf))\n",
    "print(classification_report(y_test, y_pred_rf_tfidf))"
   ]
  },
  {
   "cell_type": "markdown",
   "metadata": {},
   "source": [
    "# Inference model"
   ]
  },
  {
   "cell_type": "code",
   "execution_count": 89,
   "metadata": {},
   "outputs": [
    {
     "name": "stdout",
     "output_type": "stream",
     "text": [
      "Model dan vectorizer berhasil disimpan!\n"
     ]
    }
   ],
   "source": [
    "# Simpan Model Random Forest\n",
    "with open(\"rf_model_tfidf.pkl\", \"wb\") as model_file:\n",
    "    pickle.dump(rf_model_tfidf, model_file)\n",
    "\n",
    "# simpan model svm\n",
    "with open(\"svm_model_tfidf.pkl\", \"wb\") as model_file:\n",
    "    pickle.dump(svm_model, model_file)\n",
    "\n",
    "# Simpan TF-IDF Vectorizer setelah training\n",
    "with open(\"tfidf_vectorizer.pkl\", \"wb\") as file:\n",
    "    pickle.dump(tfidf_vectorizer, file)\n",
    "\n",
    "print(\"Model dan vectorizer berhasil disimpan!\")\n"
   ]
  },
  {
   "cell_type": "code",
   "execution_count": 90,
   "metadata": {},
   "outputs": [],
   "source": [
    "# ====== Load Model & TF-IDF Vectorizer ======\n",
    "with open(\"rf_model_tfidf.pkl\", \"rb\") as model_file:\n",
    "    rf_model_tfidf = pickle.load(model_file)\n",
    "    \n",
    "# ====== Load Model & TF-IDF Vectorizer ======\n",
    "with open(\"svm_model_tfidf.pkl\", \"rb\") as model_file:\n",
    "    svm_model_tfidf = pickle.load(model_file)\n",
    "\n",
    "# Load kembali TF-IDF Vectorizer dari file\n",
    "with open(\"tfidf_vectorizer.pkl\", \"rb\") as file:\n",
    "    tfidf_vectorizer = pickle.load(file)\n"
   ]
  },
  {
   "cell_type": "code",
   "execution_count": 91,
   "metadata": {},
   "outputs": [
    {
     "name": "stdout",
     "output_type": "stream",
     "text": [
      "Jumlah fitur saat inference: 10000\n",
      "Jumlah fitur yang diharapkan oleh RF: 10000\n",
      "Jumlah fitur yang diharapkan oleh RF: 10000\n"
     ]
    }
   ],
   "source": [
    "review_tfidf = tfidf_vectorizer.transform([\"Game ini seru!\"])\n",
    "print(f\"Jumlah fitur saat inference: {review_tfidf.shape[1]}\")  # Harus sama dengan training\n",
    "print(f\"Jumlah fitur yang diharapkan oleh RF: {rf_model_tfidf.n_features_in_}\")\n",
    "print(f\"Jumlah fitur yang diharapkan oleh RF: {svm_model_tfidf.n_features_in_}\")"
   ]
  },
  {
   "cell_type": "code",
   "execution_count": 92,
   "metadata": {},
   "outputs": [],
   "source": [
    "# ====== Load Stopwords & Stemmer ======\n",
    "# URL stopwords dari GitHub\n",
    "url = \"https://raw.githubusercontent.com/stopwords-iso/stopwords-id/master/stopwords-id.json\"\n",
    "\n",
    "# Mengambil data stopwords dari GitHub\n",
    "response = requests.get(url)\n",
    "stopwords_indonesia = set(json.loads(response.text))\n",
    "\n",
    "# ====== Preprocessing Function ======\n",
    "def preprocess_text(text):\n",
    "    if not isinstance(text, str):\n",
    "        return \"\"\n",
    "\n",
    "    text = text.lower()  # Lowercasing\n",
    "    text = re.sub(r'http\\S+|www.\\S+', '', text)  # Remove links\n",
    "    text = re.sub(r'\\d+', '', text)  # Remove numbers\n",
    "    text = text.translate(str.maketrans('', '', string.punctuation))  # Remove punctuation\n",
    "    text = ' '.join([stemmer.stem(word) for word in text.split() if word not in stopwords_indonesia])  # Stemming & Stopwords\n",
    "    return text\n",
    "\n",
    "# ====== Mapping Sentimen ======\n",
    "sentiment_mapping = {-1: \"Negatif\", 0: \"Netral\", 1: \"Positif\"}\n",
    "\n",
    "\n"
   ]
  },
  {
   "cell_type": "code",
   "execution_count": 94,
   "metadata": {},
   "outputs": [
    {
     "name": "stdout",
     "output_type": "stream",
     "text": [
      "Review: Game ini sangat menyenangkan dan seru! -> Sentimen: Positif\n",
      "Review: Grafik bagus tapi banyak bug yang mengganggu. -> Sentimen: Negatif\n",
      "Review: Lumayanlah, gak terlalu buruk. -> Sentimen: Negatif\n",
      "Review: kurang baik -> Sentimen: Netral\n",
      "Review: jujur ini buruk -> Sentimen: Negatif\n",
      "Review: lumayanlah -> Sentimen: Netral\n"
     ]
    }
   ],
   "source": [
    "#  ====== Inference Function SVM Model ======\n",
    "def predict_sentiment(review):\n",
    "    # Preprocessing teks\n",
    "    clean_review = preprocess_text(review)\n",
    "\n",
    "    # Gunakan TF-IDF Vectorizer yang sudah dipakai saat training\n",
    "    review_tfidf = tfidf_vectorizer.transform([clean_review])\n",
    "\n",
    "    # Prediksi menggunakan model yang sudah dilatih\n",
    "    sentiment_label = svm_model_tfidf.predict(review_tfidf)[0]\n",
    "\n",
    "    return sentiment_mapping[sentiment_label]\n",
    "\n",
    "\n",
    "# ====== Contoh Testing ======\n",
    "if __name__ == \"__main__\":\n",
    "    test_reviews = [\n",
    "        \"Game ini sangat menyenangkan dan seru!\",\n",
    "        \"Grafik bagus tapi banyak bug yang mengganggu.\",\n",
    "        \"Lumayanlah, gak terlalu buruk.\",\n",
    "        \"kurang baik\",\n",
    "        \"jujur ini buruk\",\n",
    "        \"lumayanlah\"\n",
    "    ]\n",
    "\n",
    "    for review in test_reviews:\n",
    "        print(f\"Review: {review} -> Sentimen: {predict_sentiment(review)}\")"
   ]
  }
 ],
 "metadata": {
  "kernelspec": {
   "display_name": "Python 3",
   "language": "python",
   "name": "python3"
  },
  "language_info": {
   "codemirror_mode": {
    "name": "ipython",
    "version": 3
   },
   "file_extension": ".py",
   "mimetype": "text/x-python",
   "name": "python",
   "nbconvert_exporter": "python",
   "pygments_lexer": "ipython3",
   "version": "3.12.1"
  }
 },
 "nbformat": 4,
 "nbformat_minor": 2
}
