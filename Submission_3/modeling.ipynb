{
 "cells": [
  {
   "cell_type": "markdown",
   "metadata": {},
   "source": [
    "### Import Library"
   ]
  },
  {
   "cell_type": "code",
   "execution_count": null,
   "metadata": {},
   "outputs": [],
   "source": [
    "import pandas as pd \n",
    "import numpy as np  \n",
    "import matplotlib.pyplot as plt  \n",
    "import seaborn as sns  \n",
    "import string\n",
    "import re\n",
    "import nltk\n",
    "import pandas as pd\n",
    "import nltk\n",
    "from nltk.tokenize import word_tokenize\n",
    "from nltk.corpus import stopwords\n",
    "from Sastrawi.Stemmer.StemmerFactory import StemmerFactory\n",
    "from collections import Counter\n",
    "from sklearn.model_selection import train_test_split,cross_val_score\n",
    "from sklearn.feature_extraction.text import TfidfVectorizer\n",
    "from sklearn.ensemble import RandomForestClassifier\n",
    "from sklearn.metrics import accuracy_score, classification_report\n",
    "from gensim.models import Word2Vec\n",
    "import pickle\n",
    "import requests\n",
    "import json\n",
    "from sklearn.svm import SVC"
   ]
  },
  {
   "cell_type": "code",
   "execution_count": 2,
   "metadata": {},
   "outputs": [
    {
     "name": "stderr",
     "output_type": "stream",
     "text": [
      "[nltk_data] Downloading package punkt to\n",
      "[nltk_data]     C:\\Users\\ejaad\\AppData\\Roaming\\nltk_data...\n",
      "[nltk_data]   Unzipping tokenizers\\punkt.zip.\n",
      "[nltk_data] Downloading package stopwords to\n",
      "[nltk_data]     C:\\Users\\ejaad\\AppData\\Roaming\\nltk_data...\n",
      "[nltk_data]   Package stopwords is already up-to-date!\n"
     ]
    },
    {
     "data": {
      "text/plain": [
       "True"
      ]
     },
     "execution_count": 2,
     "metadata": {},
     "output_type": "execute_result"
    }
   ],
   "source": [
    "nltk.download('punkt', force=True)\n",
    "nltk.download('stopwords')"
   ]
  },
  {
   "cell_type": "markdown",
   "metadata": {},
   "source": [
    "### Preprocessing data"
   ]
  },
  {
   "cell_type": "code",
   "execution_count": 3,
   "metadata": {},
   "outputs": [],
   "source": [
    "# Load data ulasan\n",
    "data = pd.read_csv(\"magic_chess_reviews.csv\")"
   ]
  },
  {
   "cell_type": "code",
   "execution_count": null,
   "metadata": {},
   "outputs": [],
   "source": [
    "# Cek data frame\n",
    "df = pd.DataFrame(data)\n",
    "df.shape\n",
    "df.head()"
   ]
  },
  {
   "cell_type": "code",
   "execution_count": 5,
   "metadata": {},
   "outputs": [],
   "source": [
    "# Menghitung jumlah baris dan kolom dalam DataFrame\n",
    "jumlah_ulasan, jumlah_kolom = df.shape"
   ]
  },
  {
   "cell_type": "code",
   "execution_count": null,
   "metadata": {},
   "outputs": [],
   "source": [
    "# Hapus missing value\n",
    "clean_df = df.dropna()\n",
    "\n",
    "# Menghapus baris duplikat dari DataFrame clean_df\n",
    "clean_df = clean_df.drop_duplicates()\n",
    "\n",
    "# Menghitung jumlah baris dan kolom dalam DataFrame clean_df setelah menghapus duplikat\n",
    "jumlah_ulasan_setelah_hapus_duplikat, jumlah_kolom_setelah_hapus_duplikat = clean_df.shape"
   ]
  },
  {
   "cell_type": "markdown",
   "metadata": {},
   "source": [
    "### Preprocessing teks"
   ]
  },
  {
   "cell_type": "code",
   "execution_count": 161,
   "metadata": {},
   "outputs": [],
   "source": [
    "# Inisialisasi stemmer bahasa Indonesia\n",
    "factory = StemmerFactory()\n",
    "stemmer = factory.create_stemmer()"
   ]
  },
  {
   "cell_type": "code",
   "execution_count": 8,
   "metadata": {},
   "outputs": [],
   "source": [
    "# Load stopwords bahasa Indonesia & Inggris\n",
    "stop_words = set(stopwords.words('indonesian'))\n",
    "stop_words.update(stopwords.words('english'))\n",
    "stop_words.update(['iya', 'yaa', 'gak', 'nya', 'na', 'sih', 'ku', 'di', 'ga', 'ya', 'gaa', 'loh', 'kah', 'woi', 'woii', 'woy'])\n"
   ]
  },
  {
   "cell_type": "code",
   "execution_count": 9,
   "metadata": {},
   "outputs": [],
   "source": [
    "# Daftar kata sentimen\n",
    "positive_words = set([\"baik\", \"bagus\", \"mantap\", \"senang\", \"puas\", \"suka\", \"hebat\", \"luar biasa\", \"terbaik\"])\n",
    "negative_words = set([\"buruk\", \"jelek\", \"kecewa\", \"parah\", \"lambat\", \"tidak suka\", \"mengecewakan\", \"payah\", \"bug\"]) \n"
   ]
  },
  {
   "cell_type": "code",
   "execution_count": null,
   "metadata": {},
   "outputs": [
    {
     "name": "stdout",
     "output_type": "stream",
     "text": [
      "Preprocessing dan labeling selesai. Data disimpan dalam magic_chess_reviews_clean.csv\n"
     ]
    }
   ],
   "source": [
    "# Preprocessing teks\n",
    "def preprocess_text(text):\n",
    "    # Pastikan teks adalah string\n",
    "    if not isinstance(text, str):\n",
    "        return \"\"\n",
    "    text = text.lower()  # Lowercasing\n",
    "    text = re.sub(r'@[A-Za-z0-9]+', '', text)  # Menghapus mention\n",
    "    text = re.sub(r'#[A-Za-z0-9]+', '', text)  # Menghapus hashtag\n",
    "    text = re.sub(r'RT[\\s]', '', text)  # Menghapus RT\n",
    "    text = re.sub(r'http\\S+', '', text)  # Menghapus URL/link\n",
    "    text = re.sub(r'[0-9]+', '', text)  # Menghapus angka\n",
    "    text = re.sub(r'[^a-zA-Z\\s]', '', text)  # Menghapus karakter selain huruf dan spasi\n",
    "    text = text.replace('\\n', ' ')  # Mengganti baris baru dengan spasi\n",
    "    text = text.translate(str.maketrans('', '', string.punctuation))  # Menghapus tanda baca\n",
    "    text = text.strip()  # Menghapus spasi di awal dan akhir\n",
    "    \n",
    "    tokens = re.findall(r'\\b\\w+\\b', text)  # Tokenization dengan regex\n",
    "    tokens = [word for word in tokens if word not in stop_words]  # Stopword removal\n",
    "    tokens = [stemmer.stem(word) for word in tokens]  # Stemming\n",
    "    return \" \".join(tokens)\n",
    "\n",
    "def label_sentiment(text):\n",
    "    words = set(text.split())\n",
    "    pos_count = len(words & positive_words)\n",
    "    neg_count = len(words & negative_words)\n",
    "    \n",
    "    if pos_count > neg_count:\n",
    "        return 1  # Positif\n",
    "    elif neg_count > pos_count:\n",
    "        return -1  # Negatif\n",
    "    else:\n",
    "        return 0  # Netral\n",
    "\n",
    "# Terapkan preprocessing ke setiap ulasan\n",
    "if 'content' in df.columns:\n",
    "    df['clean_content'] = df['content'].apply(preprocess_text)\n",
    "    df['sentiment'] = df['clean_content'].apply(label_sentiment)\n",
    "    \n",
    "    # Simpan hasil preprocessing dan labeling\n",
    "    processed_filename = \"magic_chess_reviews_clean.csv\"\n",
    "    df[['clean_content', 'score', 'sentiment']].to_csv(processed_filename, index=False)\n",
    "    print(f\"Preprocessing dan labeling selesai. Data disimpan dalam {processed_filename}\")\n",
    "else:\n",
    "    print(\"Kolom 'content' tidak ditemukan dalam data.\")\n",
    "\n"
   ]
  },
  {
   "cell_type": "markdown",
   "metadata": {},
   "source": [
    "## Analisis sentimen"
   ]
  },
  {
   "cell_type": "code",
   "execution_count": 13,
   "metadata": {},
   "outputs": [
    {
     "name": "stderr",
     "output_type": "stream",
     "text": [
      "C:\\Users\\ejaad\\AppData\\Local\\Temp\\ipykernel_10972\\3581007145.py:3: FutureWarning: \n",
      "\n",
      "Passing `palette` without assigning `hue` is deprecated and will be removed in v0.14.0. Assign the `x` variable to `hue` and set `legend=False` for the same effect.\n",
      "\n",
      "  sns.countplot(x=df['sentiment'].map({-1: \"Negatif\", 0: \"Netral\", 1: \"Positif\"}), palette='coolwarm')\n"
     ]
    },
    {
     "data": {
      "image/png": "[encoded data removed]",
      "text/plain": [
       "<Figure size 600x400 with 1 Axes>"
      ]
     },
     "metadata": {},
     "output_type": "display_data"
    }
   ],
   "source": [
    "# Analisis Sentimen\n",
    "plt.figure(figsize=(6, 4))\n",
    "sns.countplot(x=df['sentiment'].map({-1: \"Negatif\", 0: \"Netral\", 1: \"Positif\"}), palette='coolwarm')\n",
    "plt.title(\"Distribusi Sentimen Ulasan\")\n",
    "plt.xlabel(\"Sentimen\")\n",
    "plt.ylabel(\"Jumlah Ulasan\")\n",
    "plt.show()"
   ]
  },
  {
   "cell_type": "code",
   "execution_count": null,
   "metadata": {},
   "outputs": [
    {
     "name": "stderr",
     "output_type": "stream",
     "text": [
      "C:\\Users\\ejaad\\AppData\\Local\\Temp\\ipykernel_10972\\4144550406.py:2: FutureWarning: \n",
      "\n",
      "Passing `palette` without assigning `hue` is deprecated and will be removed in v0.14.0. Assign the `y` variable to `hue` and set `legend=False` for the same effect.\n",
      "\n",
      "  sns.barplot(x=list(counts), y=list(words), palette='viridis')\n"
     ]
    },
    {
     "data": {
      "image/png": "[encoded data removed]",
      "text/plain": [
       "<Figure size 800x400 with 1 Axes>"
      ]
     },
     "metadata": {},
     "output_type": "display_data"
    }
   ],
   "source": [
    "\n",
    "# Analisis Kata Kunci\n",
    "all_words = \" \".join(df['clean_content']).split()\n",
    "common_words = Counter(all_words).most_common(20)\n",
    "words, counts = zip(*common_words)\n",
    "plt.figure(figsize=(8, 4))\n",
    "sns.barplot(x=list(counts), y=list(words), palette='viridis')\n",
    "plt.title(\"20 Kata yang Paling Sering Muncul\")\n",
    "plt.xlabel(\"Frekuensi\")\n",
    "plt.ylabel(\"Kata\")\n",
    "plt.show()"
   ]
  },
  {
   "cell_type": "code",
   "execution_count": 16,
   "metadata": {},
   "outputs": [
    {
     "data": {
      "image/png": "[encoded data removed]",
      "text/plain": [
       "<Figure size 600x400 with 1 Axes>"
      ]
     },
     "metadata": {},
     "output_type": "display_data"
    }
   ],
   "source": [
    "# Distribusi Panjang Teks\n",
    "df['text_length'] = df['clean_content'].apply(lambda x: len(x.split()))\n",
    "plt.figure(figsize=(6, 4))\n",
    "sns.histplot(df['text_length'], bins=30, kde=True, color='blue')\n",
    "plt.title(\"Distribusi Panjang Ulasan\")\n",
    "plt.xlabel(\"Jumlah Kata\")\n",
    "plt.ylabel(\"Frekuensi\")\n",
    "plt.show()\n"
   ]
  },
  {
   "cell_type": "code",
   "execution_count": 17,
   "metadata": {},
   "outputs": [
    {
     "name": "stderr",
     "output_type": "stream",
     "text": [
      "C:\\Users\\ejaad\\AppData\\Local\\Temp\\ipykernel_10972\\1723424477.py:3: FutureWarning: \n",
      "\n",
      "Passing `palette` without assigning `hue` is deprecated and will be removed in v0.14.0. Assign the `x` variable to `hue` and set `legend=False` for the same effect.\n",
      "\n",
      "  sns.boxplot(x=df['score'], y=df['sentiment'], palette='coolwarm')\n"
     ]
    },
    {
     "data": {
      "image/png": "[encoded data removed]",
      "text/plain": [
       "<Figure size 800x500 with 1 Axes>"
      ]
     },
     "metadata": {},
     "output_type": "display_data"
    }
   ],
   "source": [
    "# Analisis Rating vs Sentimen\n",
    "plt.figure(figsize=(8, 5))\n",
    "sns.boxplot(x=df['score'], y=df['sentiment'], palette='coolwarm')\n",
    "plt.title(\"Hubungan Rating dengan Sentimen\")\n",
    "plt.xlabel(\"Rating Play Store\")\n",
    "plt.ylabel(\"Sentimen\")\n",
    "plt.show()"
   ]
  },
  {
   "cell_type": "markdown",
   "metadata": {},
   "source": [
    "## Modeling menggunakan LSTM"
   ]
  },
  {
   "cell_type": "code",
   "execution_count": 25,
   "metadata": {},
   "outputs": [],
   "source": [
    "# Memuat data hasil preprocessing\n",
    "df = pd.read_csv(\"magic_chess_reviews_clean.csv\")\n",
    "\n",
    "# Pilih teks dan label sentimen\n",
    "X_text = df['clean_content']\n",
    "y = df['sentiment']\n",
    "\n",
    "# Hapus baris yang memiliki NaN pada teks\n",
    "df = df.dropna(subset=['clean_content'])\n",
    "\n",
    "# Atau, ganti NaN dengan string kosong\n",
    "df['clean_content'] = df['clean_content'].fillna(\"\")\n"
   ]
  },
  {
   "cell_type": "code",
   "execution_count": null,
   "metadata": {},
   "outputs": [
    {
     "name": "stdout",
     "output_type": "stream",
     "text": [
      "Jumlah data kosong sebelum pemrosesan: 0\n",
      "                                       clean_content  score  sentiment\n",
      "0                                    seru main geram      5          0\n",
      "1                                           far good      5          0\n",
      "2  gamenya bagus cuman gacha hero lumayan susah cari      4          1\n",
      "3                                   game seru banget      5          0\n",
      "4                                             mantap      5          1\n"
     ]
    }
   ],
   "source": [
    "X_text = df['clean_content'].astype(str)\n",
    "\n",
    "print(\"Jumlah data kosong sebelum pemrosesan:\", df['clean_content'].isna().sum())\n",
    "print(df.head())  # Untuk melihat apakah ada data aneh"
   ]
  },
  {
   "cell_type": "code",
   "execution_count": 28,
   "metadata": {},
   "outputs": [],
   "source": [
    "X_text = df['clean_content'].astype(str).tolist()\n",
    "y = df['sentiment'].values  \n"
   ]
  },
  {
   "cell_type": "code",
   "execution_count": 29,
   "metadata": {},
   "outputs": [
    {
     "name": "stdout",
     "output_type": "stream",
     "text": [
      "Jumlah data kosong setelah konversi: 0\n",
      "Contoh data: ['seru main geram', 'far good', 'gamenya bagus cuman gacha hero lumayan susah cari', 'game seru banget', 'mantap']\n"
     ]
    }
   ],
   "source": [
    "print(\"Jumlah data kosong setelah konversi:\", sum(pd.Series(X_text).isna()))\n",
    "print(\"Contoh data:\", X_text[:5])\n"
   ]
  },
  {
   "cell_type": "code",
   "execution_count": 163,
   "metadata": {},
   "outputs": [
    {
     "name": "stdout",
     "output_type": "stream",
     "text": [
      "\n",
      "Model: SVM + TF-IDF (80/20)\n",
      "Akurasi Pelatihan: 0.9945160056115292\n",
      "Akurasi Pengujian: 0.9775624681285059\n",
      "              precision    recall  f1-score   support\n",
      "\n",
      "          -1       0.99      0.73      0.84       111\n",
      "           0       0.97      1.00      0.98      1262\n",
      "           1       1.00      0.98      0.99       588\n",
      "\n",
      "    accuracy                           0.98      1961\n",
      "   macro avg       0.98      0.90      0.94      1961\n",
      "weighted avg       0.98      0.98      0.98      1961\n",
      "\n"
     ]
    }
   ],
   "source": [
    "# ==================== TF-IDF + SVM (80/20) ====================\n",
    "print(\"\\nModel: SVM + TF-IDF (80/20)\")\n",
    "tfidf_vectorizer = TfidfVectorizer(max_features=5000)\n",
    "X_tfidf = tfidf_vectorizer.fit_transform(X_text)\n",
    "\n",
    "# Membagi data latih dan data uji (80/20)\n",
    "X_train, X_test, y_train, y_test = train_test_split(X_tfidf, y, test_size=0.2, random_state=42)\n",
    "\n",
    "# Melatih model SVM\n",
    "svm_model = SVC(kernel='linear', C=1.0)\n",
    "svm_model.fit(X_train, y_train)\n",
    "\n",
    "y_train_svm = svm_model.predict(X_train)\n",
    "print(\"Akurasi Pelatihan:\", accuracy_score(y_train, y_train_svm))\n",
    "\n",
    "# Evaluasi model\n",
    "y_pred_svm = svm_model.predict(X_test)\n",
    "\n",
    "print(\"Akurasi Pengujian:\", accuracy_score(y_test, y_pred_svm))\n",
    "print(classification_report(y_test, y_pred_svm))\n",
    "\n"
   ]
  },
  {
   "cell_type": "code",
   "execution_count": 164,
   "metadata": {},
   "outputs": [
    {
     "name": "stdout",
     "output_type": "stream",
     "text": [
      "Jumlah fitur yang diharapkan oleh RF: 5000\n"
     ]
    }
   ],
   "source": [
    "print(f\"Jumlah fitur yang diharapkan oleh RF: {svm_model.n_features_in_}\")"
   ]
  },
  {
   "cell_type": "code",
   "execution_count": 162,
   "metadata": {},
   "outputs": [
    {
     "name": "stdout",
     "output_type": "stream",
     "text": [
      "\n",
      "Model: RF + Word2Vec (80/20)\n",
      "Akurasi Pelatihan: 1.0\n",
      "Akurasi Pengujian: 0.8378378378378378\n",
      "              precision    recall  f1-score   support\n",
      "\n",
      "          -1       1.00      0.14      0.24       111\n",
      "           0       0.81      0.98      0.89      1262\n",
      "           1       0.94      0.66      0.77       588\n",
      "\n",
      "    accuracy                           0.84      1961\n",
      "   macro avg       0.92      0.59      0.63      1961\n",
      "weighted avg       0.86      0.84      0.82      1961\n",
      "\n"
     ]
    }
   ],
   "source": [
    "# ==================== Word2Vec + RF (80/20) ====================\n",
    "print(\"\\nModel: RF + Word2Vec (80/20)\")\n",
    "tokenized_text = [text.split() for text in X_text]\n",
    "w2v_model = Word2Vec(sentences=tokenized_text, vector_size=100, window=5, min_count=2, workers=4)\n",
    "word_vectors = w2v_model.wv\n",
    "\n",
    "def text_to_w2v(text):\n",
    "    words = text.split()\n",
    "    words = [word for word in words if word in word_vectors]\n",
    "    if len(words) == 0:\n",
    "        return np.zeros(100)\n",
    "    return np.mean([word_vectors[word] for word in words], axis=0)\n",
    "\n",
    "X_w2v = np.array([text_to_w2v(text) for text in X_text])\n",
    "\n",
    "X_train, X_test, y_train, y_test = train_test_split(X_w2v, y, test_size=0.2, random_state=42)\n",
    "\n",
    "rf_model = RandomForestClassifier(n_estimators=100, random_state=42)\n",
    "rf_model.fit(X_train, y_train)\n",
    "\n",
    "y_train_rf_w2v = rf_model.predict(X_train)\n",
    "print(\"Akurasi Pelatihan:\", accuracy_score(y_train, y_train_rf_w2v))\n",
    "\n",
    "y_pred_rf_w2v = rf_model.predict(X_test)\n",
    "print(\"Akurasi Pengujian:\", accuracy_score(y_test, y_pred_rf_w2v))\n",
    "print(classification_report(y_test, y_pred_rf_w2v))"
   ]
  },
  {
   "cell_type": "code",
   "execution_count": 157,
   "metadata": {},
   "outputs": [
    {
     "name": "stdout",
     "output_type": "stream",
     "text": [
      "\n",
      "Model: RF + TF-IDF (70/30)\n",
      "Akurasi Pelatihan: 1.0\n",
      "Akurasi Pengujian: 0.9785787147228834\n",
      "              precision    recall  f1-score   support\n",
      "\n",
      "          -1       0.97      0.77      0.86       145\n",
      "           0       0.98      0.99      0.98      1902\n",
      "           1       0.98      0.99      0.99       894\n",
      "\n",
      "    accuracy                           0.98      2941\n",
      "   macro avg       0.98      0.91      0.94      2941\n",
      "weighted avg       0.98      0.98      0.98      2941\n",
      "\n"
     ]
    }
   ],
   "source": [
    "# ==================== TF-IDF + RF (70/30) ====================\n",
    "print(\"\\nModel: RF + TF-IDF (70/30)\")\n",
    "X_train, X_test, y_train, y_test = train_test_split(X_tfidf, y, test_size=0.3, random_state=42)\n",
    "\n",
    "rf_model_tfidf = RandomForestClassifier(n_estimators=200, min_samples_split=5,random_state=42)\n",
    "rf_model_tfidf.fit(X_train, y_train)\n",
    "\n",
    "y_train_rf_tfidf = rf_model_tfidf.predict(X_train)\n",
    "print(\"Akurasi Pelatihan:\", accuracy_score(y_train, y_train_rf_tfidf))\n",
    "\n",
    "y_pred_rf_tfidf = rf_model_tfidf.predict(X_test)\n",
    "print(\"Akurasi Pengujian:\", accuracy_score(y_test, y_pred_rf_tfidf))\n",
    "print(classification_report(y_test, y_pred_rf_tfidf))"
   ]
  },
  {
   "cell_type": "code",
   "execution_count": 146,
   "metadata": {},
   "outputs": [
    {
     "name": "stdout",
     "output_type": "stream",
     "text": [
      "Jumlah fitur saat training: 5000\n"
     ]
    }
   ],
   "source": [
    "print(f\"Jumlah fitur saat training: {X_tfidf.shape[1]}\")  # X_tfidf dari training\n"
   ]
  },
  {
   "cell_type": "code",
   "execution_count": 147,
   "metadata": {},
   "outputs": [
    {
     "name": "stdout",
     "output_type": "stream",
     "text": [
      "Jumlah fitur yang diharapkan oleh RF: 5000\n"
     ]
    }
   ],
   "source": [
    "print(f\"Jumlah fitur yang diharapkan oleh RF: {rf_model_tfidf.n_features_in_}\")"
   ]
  },
  {
   "cell_type": "markdown",
   "metadata": {},
   "source": [
    "# Inference model"
   ]
  },
  {
   "cell_type": "code",
   "execution_count": 165,
   "metadata": {},
   "outputs": [
    {
     "name": "stdout",
     "output_type": "stream",
     "text": [
      "Model dan vectorizer berhasil disimpan!\n"
     ]
    }
   ],
   "source": [
    "# Simpan Model Random Forest\n",
    "with open(\"rf_model_tfidf.pkl\", \"wb\") as model_file:\n",
    "    pickle.dump(rf_model_tfidf, model_file)\n",
    "\n",
    "# simpan model svm\n",
    "with open(\"svm_model_tfidf.pkl\", \"wb\") as model_file:\n",
    "    pickle.dump(svm_model, model_file)\n",
    "\n",
    "# Simpan TF-IDF Vectorizer setelah training\n",
    "with open(\"tfidf_vectorizer.pkl\", \"wb\") as file:\n",
    "    pickle.dump(tfidf_vectorizer, file)\n",
    "\n",
    "print(\"Model dan vectorizer berhasil disimpan!\")\n"
   ]
  },
  {
   "cell_type": "code",
   "execution_count": 168,
   "metadata": {},
   "outputs": [],
   "source": [
    "# ====== Load Model & TF-IDF Vectorizer ======\n",
    "with open(\"rf_model_tfidf.pkl\", \"rb\") as model_file:\n",
    "    rf_model_tfidf = pickle.load(model_file)\n",
    "    \n",
    "# ====== Load Model & TF-IDF Vectorizer ======\n",
    "with open(\"svm_model_tfidf.pkl\", \"rb\") as model_file:\n",
    "    svm_model_tfidf = pickle.load(model_file)\n",
    "\n",
    "# Load kembali TF-IDF Vectorizer dari file\n",
    "with open(\"tfidf_vectorizer.pkl\", \"rb\") as file:\n",
    "    tfidf_vectorizer = pickle.load(file)\n"
   ]
  },
  {
   "cell_type": "code",
   "execution_count": 169,
   "metadata": {},
   "outputs": [
    {
     "name": "stdout",
     "output_type": "stream",
     "text": [
      "Jumlah fitur saat inference: 5000\n",
      "Jumlah fitur yang diharapkan oleh RF: 5000\n",
      "Jumlah fitur yang diharapkan oleh RF: 5000\n"
     ]
    }
   ],
   "source": [
    "review_tfidf = tfidf_vectorizer.transform([\"Game ini seru!\"])\n",
    "print(f\"Jumlah fitur saat inference: {review_tfidf.shape[1]}\")  # Harus sama dengan training\n",
    "print(f\"Jumlah fitur yang diharapkan oleh RF: {rf_model_tfidf.n_features_in_}\")\n",
    "print(f\"Jumlah fitur yang diharapkan oleh RF: {svm_model_tfidf.n_features_in_}\")"
   ]
  },
  {
   "cell_type": "code",
   "execution_count": 172,
   "metadata": {},
   "outputs": [
    {
     "name": "stdout",
     "output_type": "stream",
     "text": [
      "Review: Game ini sangat menyenangkan dan seru! -> Sentimen: Positif\n",
      "Review: Grafik bagus tapi banyak bug yang mengganggu. -> Sentimen: Netral\n",
      "Review: Aduh, kecewa banget dengan update terbaru. -> Sentimen: Negatif\n",
      "Review: Lumayanlah, gak terlalu buruk. -> Sentimen: Negatif\n",
      "Review: cukup baik -> Sentimen: Netral\n",
      "Review: kurang baik -> Sentimen: Netral\n",
      "Review: jujur ini buruk -> Sentimen: Negatif\n",
      "Review: jujur ini baik -> Sentimen: Netral\n",
      "Review: lumayanlah -> Sentimen: Netral\n"
     ]
    }
   ],
   "source": [
    "# ====== Load Stopwords & Stemmer ======\n",
    "# URL stopwords dari GitHub\n",
    "url = \"https://raw.githubusercontent.com/stopwords-iso/stopwords-id/master/stopwords-id.json\"\n",
    "\n",
    "# Mengambil data stopwords dari GitHub\n",
    "response = requests.get(url)\n",
    "stopwords_indonesia = set(json.loads(response.text))\n",
    "\n",
    "# ====== Preprocessing Function ======\n",
    "def preprocess_text(text):\n",
    "    if not isinstance(text, str):\n",
    "        return \"\"\n",
    "\n",
    "    text = text.lower()  # Lowercasing\n",
    "    text = re.sub(r'http\\S+|www.\\S+', '', text)  # Remove links\n",
    "    text = re.sub(r'\\d+', '', text)  # Remove numbers\n",
    "    text = text.translate(str.maketrans('', '', string.punctuation))  # Remove punctuation\n",
    "    text = ' '.join([stemmer.stem(word) for word in text.split() if word not in stopwords_indonesia])  # Stemming & Stopwords\n",
    "    return text\n",
    "\n",
    "# ====== Mapping Sentimen ======\n",
    "sentiment_mapping = {-1: \"Negatif\", 0: \"Netral\", 1: \"Positif\"}\n",
    "\n",
    "# ====== Inference Function Menggunakan Model RF ======\n",
    "def predict_sentiment(review):\n",
    "    # Preprocessing teks\n",
    "    clean_review = preprocess_text(review)\n",
    "\n",
    "    # Gunakan TF-IDF Vectorizer yang sudah dipakai saat training\n",
    "    review_tfidf = tfidf_vectorizer.transform([clean_review])\n",
    "\n",
    "    # Prediksi menggunakan model yang sudah dilatih\n",
    "    sentiment_label = rf_model_tfidf.predict(review_tfidf)[0]\n",
    "\n",
    "    return sentiment_mapping[sentiment_label]\n",
    "\n",
    "\n",
    "# ====== Contoh Testing ======\n",
    "if __name__ == \"__main__\":\n",
    "    test_reviews = [\n",
    "        \"Game ini sangat menyenangkan dan seru!\",\n",
    "        \"Grafik bagus tapi banyak bug yang mengganggu.\",\n",
    "        \"Aduh, kecewa banget dengan update terbaru.\",\n",
    "        \"Lumayanlah, gak terlalu buruk.\",\n",
    "        \"cukup baik\",\n",
    "        \"kurang baik\",\n",
    "        \"jujur ini buruk\",\n",
    "        \"jujur ini baik\",\n",
    "        \"lumayanlah\"\n",
    "    ]\n",
    "\n",
    "    for review in test_reviews:\n",
    "        print(f\"Review: {review} -> Sentimen: {predict_sentiment(review)}\")\n"
   ]
  },
  {
   "cell_type": "code",
   "execution_count": 171,
   "metadata": {},
   "outputs": [
    {
     "name": "stdout",
     "output_type": "stream",
     "text": [
      "Review: Game ini sangat menyenangkan dan seru! -> Sentimen: Positif\n",
      "Review: Grafik bagus tapi banyak bug yang mengganggu. -> Sentimen: Netral\n",
      "Review: Aduh, kecewa banget dengan update terbaru. -> Sentimen: Negatif\n",
      "Review: Lumayanlah, gak terlalu buruk. -> Sentimen: Negatif\n",
      "Review: cukup baik -> Sentimen: Netral\n",
      "Review: kurang baik -> Sentimen: Netral\n",
      "Review: jujur ini buruk -> Sentimen: Negatif\n",
      "Review: jujur ini baik -> Sentimen: Netral\n",
      "Review: lumayanlah -> Sentimen: Netral\n"
     ]
    }
   ],
   "source": [
    "#  ====== Inference Function Menggunakan Model SVM ======\n",
    "def predict_sentiment(review):\n",
    "    # Preprocessing teks\n",
    "    clean_review = preprocess_text(review)\n",
    "\n",
    "    # Gunakan TF-IDF Vectorizer yang sudah dipakai saat training\n",
    "    review_tfidf = tfidf_vectorizer.transform([clean_review])\n",
    "\n",
    "    # Prediksi menggunakan model yang sudah dilatih\n",
    "    sentiment_label = svm_model_tfidf.predict(review_tfidf)[0]\n",
    "\n",
    "    return sentiment_mapping[sentiment_label]\n",
    "\n",
    "\n",
    "# ====== Contoh Testing ======\n",
    "if __name__ == \"__main__\":\n",
    "    test_reviews = [\n",
    "        \"Game ini sangat menyenangkan dan seru!\",\n",
    "        \"Grafik bagus tapi banyak bug yang mengganggu.\",\n",
    "        \"Aduh, kecewa banget dengan update terbaru.\",\n",
    "        \"Lumayanlah, gak terlalu buruk.\",\n",
    "        \"cukup baik\",\n",
    "        \"kurang baik\",\n",
    "        \"jujur ini buruk\",\n",
    "        \"jujur ini baik\",\n",
    "        \"lumayanlah\"\n",
    "    ]\n",
    "\n",
    "    for review in test_reviews:\n",
    "        print(f\"Review: {review} -> Sentimen: {predict_sentiment(review)}\")"
   ]
  }
 ],
 "metadata": {
  "kernelspec": {
   "display_name": "Python 3",
   "language": "python",
   "name": "python3"
  },
  "language_info": {
   "codemirror_mode": {
    "name": "ipython",
    "version": 3
   },
   "file_extension": ".py",
   "mimetype": "text/x-python",
   "name": "python",
   "nbconvert_exporter": "python",
   "pygments_lexer": "ipython3",
   "version": "3.12.1"
  }
 },
 "nbformat": 4,
 "nbformat_minor": 2
}
